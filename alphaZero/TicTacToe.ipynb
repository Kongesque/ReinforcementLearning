{
 "cells": [
  {
   "cell_type": "code",
   "execution_count": 3,
   "metadata": {},
   "outputs": [],
   "source": [
    "import numpy as np"
   ]
  },
  {
   "cell_type": "code",
   "execution_count": 4,
   "metadata": {},
   "outputs": [],
   "source": [
    "class TicTacToe:\n",
    "    def __init__(self):\n",
    "        self.rows = 3\n",
    "        self.cols = 3\n",
    "        self.total_cells = self.rows * self.cols\n",
    "\n",
    "    def initialize_board(self):\n",
    "        return np.zeros((self.rows, self.cols)) \n",
    "    \n",
    "    def get_next_state(self, state, action, player):\n",
    "        row = action // self.cols \n",
    "        col = action % self.cols  \n",
    "        state[row, col] = player\n",
    "        return state\n",
    "    \n",
    "    def get_valid_moves(self, state):\n",
    "        return (state.reshape(-1) == 0).astype(np.uint8) # 1 is valid, 0 is invalid\n",
    "    \n",
    "    def check_win(self, state, action):\n",
    "        row = action // self.cols \n",
    "        col = action % self.cols \n",
    "        player = state[row, col]\n",
    "\n",
    "        return (\n",
    "            np.sum(state[row, :]) == player * self.cols or # check row\n",
    "            np.sum(state[:, col]) == player * self.rows or # check col\n",
    "            np.sum(np.diag(state)) == player * self.rows or # check diagonal \n",
    "            np.sum(np.diag(np.flip(state, axis=0))) == player * self.rows # check anti-diagonal\n",
    "        )\n",
    "    \n",
    "    def get_value_and_terminated(self, state, action):\n",
    "        if self.check_win(state, action):\n",
    "            return 1, True\n",
    "        if np.sum(self.get_valid_moves(state)) == 0:\n",
    "            return 0, True\n",
    "        return 0, False\n",
    "    \n",
    "    def get_opponent(self, player):\n",
    "        return -player\n"
   ]
  },
  {
   "cell_type": "code",
   "execution_count": 5,
   "metadata": {},
   "outputs": [
    {
     "name": "stdout",
     "output_type": "stream",
     "text": [
      "[[0. 0. 0.]\n",
      " [0. 0. 0.]\n",
      " [0. 0. 0.]]\n",
      "valid moves [0, 1, 2, 3, 4, 5, 6, 7, 8]\n",
      "[[1. 0. 0.]\n",
      " [0. 0. 0.]\n",
      " [0. 0. 0.]]\n",
      "valid moves [1, 2, 3, 4, 5, 6, 7, 8]\n",
      "[[ 1.  0.  0.]\n",
      " [ 0. -1.  0.]\n",
      " [ 0.  0.  0.]]\n",
      "valid moves [1, 2, 3, 5, 6, 7, 8]\n",
      "[[ 1.  0.  1.]\n",
      " [ 0. -1.  0.]\n",
      " [ 0.  0.  0.]]\n",
      "valid moves [1, 3, 5, 6, 7, 8]\n",
      "[[ 1.  0.  1.]\n",
      " [ 0. -1.  0.]\n",
      " [ 0.  0. -1.]]\n",
      "valid moves [1, 3, 5, 6, 7]\n",
      "[[ 1.  0.  1.]\n",
      " [ 1. -1.  0.]\n",
      " [ 0.  0. -1.]]\n",
      "valid moves [1, 5, 6, 7]\n",
      "[[ 1.  0.  1.]\n",
      " [ 1. -1.  0.]\n",
      " [ 0. -1. -1.]]\n",
      "valid moves [1, 5, 6]\n",
      "Invalid move\n",
      "[[ 1.  0.  1.]\n",
      " [ 1. -1.  0.]\n",
      " [ 0. -1. -1.]]\n",
      "valid moves [1, 5, 6]\n",
      "Invalid move\n",
      "[[ 1.  0.  1.]\n",
      " [ 1. -1.  0.]\n",
      " [ 0. -1. -1.]]\n",
      "valid moves [1, 5, 6]\n",
      "[[ 1.  1.  1.]\n",
      " [ 1. -1.  0.]\n",
      " [ 0. -1. -1.]]\n",
      "Player 1 wins!\n"
     ]
    }
   ],
   "source": [
    "game = TicTacToe()\n",
    "cur_player = 1\n",
    "\n",
    "state = game.initialize_board()\n",
    "\n",
    "while True:\n",
    "    print(state)\n",
    "    valid_moves = game.get_valid_moves(state)\n",
    "    print(\"valid moves\", [i for i in range(game.total_cells) if valid_moves[i] == 1])\n",
    "    \n",
    "    action = int(input(f'{cur_player}:'))\n",
    "\n",
    "    if valid_moves[action] == 0:\n",
    "        print(\"Invalid move\")\n",
    "        continue\n",
    "\n",
    "    state = game.get_next_state(state, action, cur_player)\n",
    "\n",
    "    value, terminated = game.get_value_and_terminated(state, action)   \n",
    "\n",
    "    if terminated:\n",
    "        print(state)\n",
    "        if value == 1:\n",
    "            print(f\"Player {cur_player} wins!\")\n",
    "        else:\n",
    "            print(\"It's a draw!\")\n",
    "        break\n",
    "\n",
    "    cur_player = game.get_opponent(cur_player)"
   ]
  },
  {
   "cell_type": "code",
   "execution_count": null,
   "metadata": {},
   "outputs": [],
   "source": [
    "class MCTS: \n",
    "    def __init__(self, game, args):\n",
    "        self.game = game\n",
    "        self.args = args"
   ]
  }
 ],
 "metadata": {
  "kernelspec": {
   "display_name": "base",
   "language": "python",
   "name": "python3"
  },
  "language_info": {
   "codemirror_mode": {
    "name": "ipython",
    "version": 3
   },
   "file_extension": ".py",
   "mimetype": "text/x-python",
   "name": "python",
   "nbconvert_exporter": "python",
   "pygments_lexer": "ipython3",
   "version": "3.11.7"
  }
 },
 "nbformat": 4,
 "nbformat_minor": 2
}
